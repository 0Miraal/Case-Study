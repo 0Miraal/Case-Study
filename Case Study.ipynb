{
 "cells": [
  {
   "cell_type": "code",
   "execution_count": 3,
   "id": "643cbb91",
   "metadata": {},
   "outputs": [],
   "source": [
    "import pandas as pd_maria\n",
    "import numpy as np_maria\n",
    "import statsmodels.api as sm_maria\n",
    "import matplotlib.pyplot as plt_maria\n",
    "from sklearn import linear_model\n",
    "%matplotlib inline\n",
    "import seaborn as sns"
   ]
  },
  {
   "cell_type": "code",
   "execution_count": 4,
   "id": "5cb0753c",
   "metadata": {},
   "outputs": [
    {
     "data": {
      "text/html": [
       "<div>\n",
       "<style scoped>\n",
       "    .dataframe tbody tr th:only-of-type {\n",
       "        vertical-align: middle;\n",
       "    }\n",
       "\n",
       "    .dataframe tbody tr th {\n",
       "        vertical-align: top;\n",
       "    }\n",
       "\n",
       "    .dataframe thead th {\n",
       "        text-align: right;\n",
       "    }\n",
       "</style>\n",
       "<table border=\"1\" class=\"dataframe\">\n",
       "  <thead>\n",
       "    <tr style=\"text-align: right;\">\n",
       "      <th></th>\n",
       "      <th>Rented SqFt</th>\n",
       "      <th>Percent Office Space</th>\n",
       "      <th>Year Build</th>\n",
       "      <th>Clear Height</th>\n",
       "      <th>Truck-High Doors</th>\n",
       "      <th>Ground Level Doors</th>\n",
       "      <th>Date of Lease</th>\n",
       "      <th>Monthly Rent</th>\n",
       "    </tr>\n",
       "  </thead>\n",
       "  <tbody>\n",
       "    <tr>\n",
       "      <th>0</th>\n",
       "      <td>515</td>\n",
       "      <td>5.576001</td>\n",
       "      <td>1981</td>\n",
       "      <td>20.5</td>\n",
       "      <td>0</td>\n",
       "      <td>2</td>\n",
       "      <td>10/7/1981</td>\n",
       "      <td>8500</td>\n",
       "    </tr>\n",
       "    <tr>\n",
       "      <th>1</th>\n",
       "      <td>500</td>\n",
       "      <td>5.576001</td>\n",
       "      <td>1982</td>\n",
       "      <td>20.0</td>\n",
       "      <td>0</td>\n",
       "      <td>2</td>\n",
       "      <td>22/6/1982</td>\n",
       "      <td>8000</td>\n",
       "    </tr>\n",
       "    <tr>\n",
       "      <th>2</th>\n",
       "      <td>700</td>\n",
       "      <td>7.248801</td>\n",
       "      <td>1983</td>\n",
       "      <td>21.5</td>\n",
       "      <td>0</td>\n",
       "      <td>1</td>\n",
       "      <td>25/1/1983</td>\n",
       "      <td>10000</td>\n",
       "    </tr>\n",
       "    <tr>\n",
       "      <th>3</th>\n",
       "      <td>380</td>\n",
       "      <td>4.237761</td>\n",
       "      <td>1984</td>\n",
       "      <td>25.0</td>\n",
       "      <td>0</td>\n",
       "      <td>3</td>\n",
       "      <td>10/7/1984</td>\n",
       "      <td>7666</td>\n",
       "    </tr>\n",
       "    <tr>\n",
       "      <th>4</th>\n",
       "      <td>990</td>\n",
       "      <td>9.480081</td>\n",
       "      <td>1985</td>\n",
       "      <td>25.1</td>\n",
       "      <td>0</td>\n",
       "      <td>1</td>\n",
       "      <td>19/8/1985</td>\n",
       "      <td>11000</td>\n",
       "    </tr>\n",
       "    <tr>\n",
       "      <th>5</th>\n",
       "      <td>567</td>\n",
       "      <td>5.670091</td>\n",
       "      <td>1986</td>\n",
       "      <td>25.5</td>\n",
       "      <td>0</td>\n",
       "      <td>3</td>\n",
       "      <td>19/4/1986</td>\n",
       "      <td>8700</td>\n",
       "    </tr>\n",
       "    <tr>\n",
       "      <th>6</th>\n",
       "      <td>345</td>\n",
       "      <td>3.980031</td>\n",
       "      <td>1987</td>\n",
       "      <td>20.0</td>\n",
       "      <td>0</td>\n",
       "      <td>2</td>\n",
       "      <td>15/6/1987</td>\n",
       "      <td>7000</td>\n",
       "    </tr>\n",
       "    <tr>\n",
       "      <th>7</th>\n",
       "      <td>998</td>\n",
       "      <td>9.977751</td>\n",
       "      <td>1988</td>\n",
       "      <td>25.5</td>\n",
       "      <td>0</td>\n",
       "      <td>1</td>\n",
       "      <td>12/2/1988</td>\n",
       "      <td>12000</td>\n",
       "    </tr>\n",
       "    <tr>\n",
       "      <th>8</th>\n",
       "      <td>650</td>\n",
       "      <td>6.699111</td>\n",
       "      <td>1989</td>\n",
       "      <td>23.5</td>\n",
       "      <td>0</td>\n",
       "      <td>3</td>\n",
       "      <td>11/1/1989</td>\n",
       "      <td>9200</td>\n",
       "    </tr>\n",
       "    <tr>\n",
       "      <th>9</th>\n",
       "      <td>700</td>\n",
       "      <td>7.890001</td>\n",
       "      <td>1890</td>\n",
       "      <td>24.5</td>\n",
       "      <td>0</td>\n",
       "      <td>1</td>\n",
       "      <td>12/4/1990</td>\n",
       "      <td>9800</td>\n",
       "    </tr>\n",
       "  </tbody>\n",
       "</table>\n",
       "</div>"
      ],
      "text/plain": [
       "   Rented SqFt   Percent Office Space  Year Build  Clear Height  \\\n",
       "0          515               5.576001        1981          20.5   \n",
       "1          500               5.576001        1982          20.0   \n",
       "2          700               7.248801        1983          21.5   \n",
       "3          380               4.237761        1984          25.0   \n",
       "4          990               9.480081        1985          25.1   \n",
       "5          567               5.670091        1986          25.5   \n",
       "6          345               3.980031        1987          20.0   \n",
       "7          998               9.977751        1988          25.5   \n",
       "8          650               6.699111        1989          23.5   \n",
       "9          700               7.890001        1890          24.5   \n",
       "\n",
       "   Truck-High Doors  Ground Level Doors Date of Lease  Monthly Rent  \n",
       "0                 0                   2     10/7/1981          8500  \n",
       "1                 0                   2     22/6/1982          8000  \n",
       "2                 0                   1     25/1/1983         10000  \n",
       "3                 0                   3     10/7/1984          7666  \n",
       "4                 0                   1     19/8/1985         11000  \n",
       "5                 0                   3     19/4/1986          8700  \n",
       "6                 0                   2     15/6/1987          7000  \n",
       "7                 0                   1     12/2/1988         12000  \n",
       "8                 0                   3     11/1/1989          9200  \n",
       "9                 0                   1     12/4/1990          9800  "
      ]
     },
     "execution_count": 4,
     "metadata": {},
     "output_type": "execute_result"
    }
   ],
   "source": [
    "df_maria = pd_maria.read_csv('DATASET.csv')\n",
    "df_maria"
   ]
  },
  {
   "cell_type": "code",
   "execution_count": 5,
   "id": "fe24bab3",
   "metadata": {},
   "outputs": [],
   "source": [
    "correlation_matrix = df_maria.corr().round(2)"
   ]
  },
  {
   "cell_type": "code",
   "execution_count": 6,
   "id": "192ba036",
   "metadata": {},
   "outputs": [
    {
     "data": {
      "text/plain": [
       "<Figure size 288x432 with 0 Axes>"
      ]
     },
     "execution_count": 6,
     "metadata": {},
     "output_type": "execute_result"
    },
    {
     "data": {
      "text/plain": [
       "<Figure size 288x432 with 0 Axes>"
      ]
     },
     "metadata": {},
     "output_type": "display_data"
    }
   ],
   "source": [
    "plt_maria.figure(figsize=(4, 6))"
   ]
  },
  {
   "cell_type": "code",
   "execution_count": 7,
   "id": "e2148517",
   "metadata": {},
   "outputs": [
    {
     "data": {
      "text/plain": [
       "<AxesSubplot:>"
      ]
     },
     "execution_count": 7,
     "metadata": {},
     "output_type": "execute_result"
    },
    {
     "data": {
      "image/png": "[encoded data removed]",
      "text/plain": [
       "<Figure size 432x288 with 2 Axes>"
      ]
     },
     "metadata": {
      "needs_background": "light"
     },
     "output_type": "display_data"
    }
   ],
   "source": [
    "sns.heatmap(data=correlation_matrix, annot=True)"
   ]
  },
  {
   "cell_type": "code",
   "execution_count": 8,
   "id": "0f709879",
   "metadata": {},
   "outputs": [
    {
     "name": "stdout",
     "output_type": "stream",
     "text": [
      "<class 'pandas.core.frame.DataFrame'>\n",
      "RangeIndex: 10 entries, 0 to 9\n",
      "Data columns (total 8 columns):\n",
      " #   Column                 Non-Null Count  Dtype  \n",
      "---  ------                 --------------  -----  \n",
      " 0   Rented SqFt            10 non-null     int64  \n",
      " 1    Percent Office Space  10 non-null     float64\n",
      " 2   Year Build             10 non-null     int64  \n",
      " 3   Clear Height           10 non-null     float64\n",
      " 4   Truck-High Doors       10 non-null     int64  \n",
      " 5   Ground Level Doors     10 non-null     int64  \n",
      " 6   Date of Lease          10 non-null     object \n",
      " 7   Monthly Rent           10 non-null     int64  \n",
      "dtypes: float64(2), int64(5), object(1)\n",
      "memory usage: 768.0+ bytes\n"
     ]
    }
   ],
   "source": [
    "df_maria.info()"
   ]
  },
  {
   "cell_type": "code",
   "execution_count": 22,
   "id": "7a18162f",
   "metadata": {},
   "outputs": [
    {
     "data": {
      "text/html": [
       "<div>\n",
       "<style scoped>\n",
       "    .dataframe tbody tr th:only-of-type {\n",
       "        vertical-align: middle;\n",
       "    }\n",
       "\n",
       "    .dataframe tbody tr th {\n",
       "        vertical-align: top;\n",
       "    }\n",
       "\n",
       "    .dataframe thead th {\n",
       "        text-align: right;\n",
       "    }\n",
       "</style>\n",
       "<table border=\"1\" class=\"dataframe\">\n",
       "  <thead>\n",
       "    <tr style=\"text-align: right;\">\n",
       "      <th></th>\n",
       "      <th>Rented SqFt</th>\n",
       "      <th>Percent Office Space</th>\n",
       "      <th>Year Build</th>\n",
       "      <th>Clear Height</th>\n",
       "      <th>Truck-High Doors</th>\n",
       "      <th>Ground Level Doors</th>\n",
       "      <th>Monthly Rent</th>\n",
       "    </tr>\n",
       "  </thead>\n",
       "  <tbody>\n",
       "    <tr>\n",
       "      <th>count</th>\n",
       "      <td>10.000000</td>\n",
       "      <td>10.000000</td>\n",
       "      <td>10.000000</td>\n",
       "      <td>10.000000</td>\n",
       "      <td>10.0</td>\n",
       "      <td>10.000000</td>\n",
       "      <td>10.000000</td>\n",
       "    </tr>\n",
       "    <tr>\n",
       "      <th>mean</th>\n",
       "      <td>634.500000</td>\n",
       "      <td>6.633563</td>\n",
       "      <td>1975.500000</td>\n",
       "      <td>23.110000</td>\n",
       "      <td>0.0</td>\n",
       "      <td>1.900000</td>\n",
       "      <td>9186.600000</td>\n",
       "    </tr>\n",
       "    <tr>\n",
       "      <th>std</th>\n",
       "      <td>224.311415</td>\n",
       "      <td>2.032895</td>\n",
       "      <td>30.152391</td>\n",
       "      <td>2.352044</td>\n",
       "      <td>0.0</td>\n",
       "      <td>0.875595</td>\n",
       "      <td>1543.853778</td>\n",
       "    </tr>\n",
       "    <tr>\n",
       "      <th>min</th>\n",
       "      <td>345.000000</td>\n",
       "      <td>3.980031</td>\n",
       "      <td>1890.000000</td>\n",
       "      <td>20.000000</td>\n",
       "      <td>0.0</td>\n",
       "      <td>1.000000</td>\n",
       "      <td>7000.000000</td>\n",
       "    </tr>\n",
       "    <tr>\n",
       "      <th>25%</th>\n",
       "      <td>503.750000</td>\n",
       "      <td>5.576001</td>\n",
       "      <td>1982.250000</td>\n",
       "      <td>20.750000</td>\n",
       "      <td>0.0</td>\n",
       "      <td>1.000000</td>\n",
       "      <td>8125.000000</td>\n",
       "    </tr>\n",
       "    <tr>\n",
       "      <th>50%</th>\n",
       "      <td>608.500000</td>\n",
       "      <td>6.184601</td>\n",
       "      <td>1984.500000</td>\n",
       "      <td>24.000000</td>\n",
       "      <td>0.0</td>\n",
       "      <td>2.000000</td>\n",
       "      <td>8950.000000</td>\n",
       "    </tr>\n",
       "    <tr>\n",
       "      <th>75%</th>\n",
       "      <td>700.000000</td>\n",
       "      <td>7.729701</td>\n",
       "      <td>1986.750000</td>\n",
       "      <td>25.075000</td>\n",
       "      <td>0.0</td>\n",
       "      <td>2.750000</td>\n",
       "      <td>9950.000000</td>\n",
       "    </tr>\n",
       "    <tr>\n",
       "      <th>max</th>\n",
       "      <td>998.000000</td>\n",
       "      <td>9.977751</td>\n",
       "      <td>1989.000000</td>\n",
       "      <td>25.500000</td>\n",
       "      <td>0.0</td>\n",
       "      <td>3.000000</td>\n",
       "      <td>12000.000000</td>\n",
       "    </tr>\n",
       "  </tbody>\n",
       "</table>\n",
       "</div>"
      ],
      "text/plain": [
       "       Rented SqFt   Percent Office Space   Year Build  Clear Height  \\\n",
       "count    10.000000              10.000000    10.000000     10.000000   \n",
       "mean    634.500000               6.633563  1975.500000     23.110000   \n",
       "std     224.311415               2.032895    30.152391      2.352044   \n",
       "min     345.000000               3.980031  1890.000000     20.000000   \n",
       "25%     503.750000               5.576001  1982.250000     20.750000   \n",
       "50%     608.500000               6.184601  1984.500000     24.000000   \n",
       "75%     700.000000               7.729701  1986.750000     25.075000   \n",
       "max     998.000000               9.977751  1989.000000     25.500000   \n",
       "\n",
       "       Truck-High Doors  Ground Level Doors  Monthly Rent  \n",
       "count              10.0           10.000000     10.000000  \n",
       "mean                0.0            1.900000   9186.600000  \n",
       "std                 0.0            0.875595   1543.853778  \n",
       "min                 0.0            1.000000   7000.000000  \n",
       "25%                 0.0            1.000000   8125.000000  \n",
       "50%                 0.0            2.000000   8950.000000  \n",
       "75%                 0.0            2.750000   9950.000000  \n",
       "max                 0.0            3.000000  12000.000000  "
      ]
     },
     "execution_count": 22,
     "metadata": {},
     "output_type": "execute_result"
    }
   ],
   "source": [
    "df_maria.describe()"
   ]
  },
  {
   "cell_type": "code",
   "execution_count": 10,
   "id": "636afcac",
   "metadata": {},
   "outputs": [],
   "source": [
    "reg = linear_model.LinearRegression()"
   ]
  },
  {
   "cell_type": "code",
   "execution_count": 20,
   "id": "d5a7a053",
   "metadata": {
    "scrolled": false
   },
   "outputs": [
    {
     "data": {
      "text/plain": [
       "array([[515],\n",
       "       [500],\n",
       "       [700],\n",
       "       [380],\n",
       "       [990],\n",
       "       [567],\n",
       "       [345],\n",
       "       [998],\n",
       "       [650],\n",
       "       [700]], dtype=int64)"
      ]
     },
     "execution_count": 20,
     "metadata": {},
     "output_type": "execute_result"
    }
   ],
   "source": [
    "X=df_maria['Rented SqFt'].values.reshape(-1,1)\n",
    "X\n"
   ]
  },
  {
   "cell_type": "code",
   "execution_count": 23,
   "id": "6b6ab03a",
   "metadata": {},
   "outputs": [
    {
     "data": {
      "text/plain": [
       "array([[ 8500],\n",
       "       [ 8000],\n",
       "       [10000],\n",
       "       [ 7666],\n",
       "       [11000],\n",
       "       [ 8700],\n",
       "       [ 7000],\n",
       "       [12000],\n",
       "       [ 9200],\n",
       "       [ 9800]], dtype=int64)"
      ]
     },
     "execution_count": 23,
     "metadata": {},
     "output_type": "execute_result"
    }
   ],
   "source": [
    "Y=df_maria['Monthly Rent'].values.reshape(-1,1)\n",
    "Y"
   ]
  },
  {
   "cell_type": "code",
   "execution_count": 17,
   "id": "c64496d1",
   "metadata": {},
   "outputs": [],
   "source": [
    "from sklearn import linear_model\n",
    "from sklearn.linear_model import LinearRegression\n",
    "reg = LinearRegression()\n"
   ]
  },
  {
   "cell_type": "code",
   "execution_count": 24,
   "id": "839a3f9e",
   "metadata": {},
   "outputs": [
    {
     "data": {
      "text/plain": [
       "LinearRegression()"
      ]
     },
     "execution_count": 24,
     "metadata": {},
     "output_type": "execute_result"
    }
   ],
   "source": [
    "reg.fit(X,Y)"
   ]
  },
  {
   "cell_type": "code",
   "execution_count": 25,
   "id": "59612f5e",
   "metadata": {},
   "outputs": [
    {
     "name": "stdout",
     "output_type": "stream",
     "text": [
      "[4905.36487748]\n",
      "[[6.74741548]]\n"
     ]
    }
   ],
   "source": [
    "Intercept=reg.intercept_\n",
    "Coefficients=reg.coef_\n",
    "\n",
    "print(Intercept)\n",
    "\n",
    "print(Coefficients)"
   ]
  },
  {
   "cell_type": "code",
   "execution_count": 26,
   "id": "bd1de3f7",
   "metadata": {},
   "outputs": [],
   "source": [
    "import statsmodels.api as ssm \n",
    "\n",
    "\n",
    "#for detail description of linear coefficients, intercepts, deviations,\n",
    "# and many more"
   ]
  },
  {
   "cell_type": "code",
   "execution_count": 27,
   "id": "6e98572b",
   "metadata": {},
   "outputs": [
    {
     "name": "stderr",
     "output_type": "stream",
     "text": [
      "C:\\Users\\AHS\\anaconda3\\lib\\site-packages\\scipy\\stats\\stats.py:1541: UserWarning: kurtosistest only valid for n>=20 ... continuing anyway, n=10\n",
      "  warnings.warn(\"kurtosistest only valid for n>=20 ... continuing \"\n"
     ]
    },
    {
     "data": {
      "text/html": [
       "<table class=\"simpletable\">\n",
       "<caption>OLS Regression Results</caption>\n",
       "<tr>\n",
       "  <th>Dep. Variable:</th>            <td>y</td>        <th>  R-squared:         </th> <td>   0.961</td>\n",
       "</tr>\n",
       "<tr>\n",
       "  <th>Model:</th>                   <td>OLS</td>       <th>  Adj. R-squared:    </th> <td>   0.956</td>\n",
       "</tr>\n",
       "<tr>\n",
       "  <th>Method:</th>             <td>Least Squares</td>  <th>  F-statistic:       </th> <td>   197.6</td>\n",
       "</tr>\n",
       "<tr>\n",
       "  <th>Date:</th>             <td>Sun, 09 Jan 2022</td> <th>  Prob (F-statistic):</th> <td>6.37e-07</td>\n",
       "</tr>\n",
       "<tr>\n",
       "  <th>Time:</th>                 <td>10:54:15</td>     <th>  Log-Likelihood:    </th> <td> -70.850</td>\n",
       "</tr>\n",
       "<tr>\n",
       "  <th>No. Observations:</th>      <td>    10</td>      <th>  AIC:               </th> <td>   145.7</td>\n",
       "</tr>\n",
       "<tr>\n",
       "  <th>Df Residuals:</th>          <td>     8</td>      <th>  BIC:               </th> <td>   146.3</td>\n",
       "</tr>\n",
       "<tr>\n",
       "  <th>Df Model:</th>              <td>     1</td>      <th>                     </th>     <td> </td>   \n",
       "</tr>\n",
       "<tr>\n",
       "  <th>Covariance Type:</th>      <td>nonrobust</td>    <th>                     </th>     <td> </td>   \n",
       "</tr>\n",
       "</table>\n",
       "<table class=\"simpletable\">\n",
       "<tr>\n",
       "    <td></td>       <th>coef</th>     <th>std err</th>      <th>t</th>      <th>P>|t|</th>  <th>[0.025</th>    <th>0.975]</th>  \n",
       "</tr>\n",
       "<tr>\n",
       "  <th>const</th> <td> 4905.3649</td> <td>  321.220</td> <td>   15.271</td> <td> 0.000</td> <td> 4164.630</td> <td> 5646.100</td>\n",
       "</tr>\n",
       "<tr>\n",
       "  <th>x1</th>    <td>    6.7474</td> <td>    0.480</td> <td>   14.058</td> <td> 0.000</td> <td>    5.641</td> <td>    7.854</td>\n",
       "</tr>\n",
       "</table>\n",
       "<table class=\"simpletable\">\n",
       "<tr>\n",
       "  <th>Omnibus:</th>       <td> 0.826</td> <th>  Durbin-Watson:     </th> <td>   2.634</td>\n",
       "</tr>\n",
       "<tr>\n",
       "  <th>Prob(Omnibus):</th> <td> 0.662</td> <th>  Jarque-Bera (JB):  </th> <td>   0.601</td>\n",
       "</tr>\n",
       "<tr>\n",
       "  <th>Skew:</th>          <td>-0.511</td> <th>  Prob(JB):          </th> <td>   0.740</td>\n",
       "</tr>\n",
       "<tr>\n",
       "  <th>Kurtosis:</th>      <td> 2.369</td> <th>  Cond. No.          </th> <td>2.10e+03</td>\n",
       "</tr>\n",
       "</table><br/><br/>Notes:<br/>[1] Standard Errors assume that the covariance matrix of the errors is correctly specified.<br/>[2] The condition number is large, 2.1e+03. This might indicate that there are<br/>strong multicollinearity or other numerical problems."
      ],
      "text/plain": [
       "<class 'statsmodels.iolib.summary.Summary'>\n",
       "\"\"\"\n",
       "                            OLS Regression Results                            \n",
       "==============================================================================\n",
       "Dep. Variable:                      y   R-squared:                       0.961\n",
       "Model:                            OLS   Adj. R-squared:                  0.956\n",
       "Method:                 Least Squares   F-statistic:                     197.6\n",
       "Date:                Sun, 09 Jan 2022   Prob (F-statistic):           6.37e-07\n",
       "Time:                        10:54:15   Log-Likelihood:                -70.850\n",
       "No. Observations:                  10   AIC:                             145.7\n",
       "Df Residuals:                       8   BIC:                             146.3\n",
       "Df Model:                           1                                         \n",
       "Covariance Type:            nonrobust                                         \n",
       "==============================================================================\n",
       "                 coef    std err          t      P>|t|      [0.025      0.975]\n",
       "------------------------------------------------------------------------------\n",
       "const       4905.3649    321.220     15.271      0.000    4164.630    5646.100\n",
       "x1             6.7474      0.480     14.058      0.000       5.641       7.854\n",
       "==============================================================================\n",
       "Omnibus:                        0.826   Durbin-Watson:                   2.634\n",
       "Prob(Omnibus):                  0.662   Jarque-Bera (JB):                0.601\n",
       "Skew:                          -0.511   Prob(JB):                        0.740\n",
       "Kurtosis:                       2.369   Cond. No.                     2.10e+03\n",
       "==============================================================================\n",
       "\n",
       "Notes:\n",
       "[1] Standard Errors assume that the covariance matrix of the errors is correctly specified.\n",
       "[2] The condition number is large, 2.1e+03. This might indicate that there are\n",
       "strong multicollinearity or other numerical problems.\n",
       "\"\"\""
      ]
     },
     "execution_count": 27,
     "metadata": {},
     "output_type": "execute_result"
    }
   ],
   "source": [
    "X=ssm.add_constant(X)           #to add constant value in the model\n",
    "model= ssm.OLS(Y,X).fit()         #fitting the model\n",
    "predictions= model.summary()      #summary of the model\n",
    "predictions"
   ]
  },
  {
   "cell_type": "code",
   "execution_count": null,
   "id": "759d6136",
   "metadata": {},
   "outputs": [],
   "source": [
    "Done!"
   ]
  }
 ],
 "metadata": {
  "kernelspec": {
   "display_name": "Python 3 (ipykernel)",
   "language": "python",
   "name": "python3"
  },
  "language_info": {
   "codemirror_mode": {
    "name": "ipython",
    "version": 3
   },
   "file_extension": ".py",
   "mimetype": "text/x-python",
   "name": "python",
   "nbconvert_exporter": "python",
   "pygments_lexer": "ipython3",
   "version": "3.9.7"
  }
 },
 "nbformat": 4,
 "nbformat_minor": 5
}
